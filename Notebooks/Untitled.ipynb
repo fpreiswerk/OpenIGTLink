{
 "cells": [
  {
   "cell_type": "code",
   "execution_count": null,
   "metadata": {
    "collapsed": false
   },
   "outputs": [],
   "source": [
    "%load_ext autoreload\n",
    "%autoreload 2\n",
    "import os\n",
    "import sys\n",
    "import time\n",
    "# Get current Directory\n",
    "wd = os.getcwd()\n",
    "# Add package to path\n",
    "sys.path.append(os.path.join(os.path.abspath(os.path.join(wd, os.pardir)), 'IGTLinkPython'))"
   ]
  },
  {
   "cell_type": "code",
   "execution_count": null,
   "metadata": {
    "collapsed": false
   },
   "outputs": [],
   "source": [
    "import IGTLinkPython"
   ]
  },
  {
   "cell_type": "code",
   "execution_count": null,
   "metadata": {
    "collapsed": false
   },
   "outputs": [],
   "source": [
    "igtlink = IGTLinkPython.IGTLinkConnection()\n",
    "igtlink.hostname = 'localhost'\n",
    "igtlink.connect()\n",
    "\n",
    "igtlink.startListening()\n",
    "time.sleep(10)\n",
    "igtlink.stopListening()\n",
    "igtlink.disconnect()\n",
    "\n"
   ]
  },
  {
   "cell_type": "code",
   "execution_count": 1,
   "metadata": {
    "collapsed": false
   },
   "outputs": [],
   "source": [
    "import struct"
   ]
  },
  {
   "cell_type": "code",
   "execution_count": 11,
   "metadata": {
    "collapsed": false
   },
   "outputs": [
    {
     "name": "stdout",
     "output_type": "stream",
     "text": [
      "'TRANSFORM\\x00\\x00\\x00'\n"
     ]
    }
   ],
   "source": [
    "a = 'TRANSFORM'\n",
    "ab = struct.pack('>cccccccccxxx', *a)\n",
    "print repr(struct.pack('>cccccccccxxx', *a))"
   ]
  },
  {
   "cell_type": "code",
   "execution_count": 16,
   "metadata": {
    "collapsed": false
   },
   "outputs": [
    {
     "name": "stdout",
     "output_type": "stream",
     "text": [
      " TRANSFORM\u0000\u0000\u0000 12 ('T', 'R', 'A', 'N', 'S', 'F', 'O', 'R', 'M', '\\x00', '\\x00', '\\x00')\n"
     ]
    }
   ],
   "source": [
    "print ab, len(ab), str(struct.unpack('>cccccccccccc', ab))"
   ]
  },
  {
   "cell_type": "code",
   "execution_count": null,
   "metadata": {
    "collapsed": false
   },
   "outputs": [],
   "source": []
  },
  {
   "cell_type": "code",
   "execution_count": null,
   "metadata": {
    "collapsed": false
   },
   "outputs": [],
   "source": []
  },
  {
   "cell_type": "code",
   "execution_count": null,
   "metadata": {
    "collapsed": false
   },
   "outputs": [],
   "source": []
  },
  {
   "cell_type": "code",
   "execution_count": null,
   "metadata": {
    "collapsed": false
   },
   "outputs": [],
   "source": []
  },
  {
   "cell_type": "code",
   "execution_count": null,
   "metadata": {
    "collapsed": true
   },
   "outputs": [],
   "source": []
  }
 ],
 "metadata": {
  "kernelspec": {
   "display_name": "Python 2",
   "language": "python",
   "name": "python2"
  },
  "language_info": {
   "codemirror_mode": {
    "name": "ipython",
    "version": 2
   },
   "file_extension": ".py",
   "mimetype": "text/x-python",
   "name": "python",
   "nbconvert_exporter": "python",
   "pygments_lexer": "ipython2",
   "version": "2.7.11"
  }
 },
 "nbformat": 4,
 "nbformat_minor": 0
}
