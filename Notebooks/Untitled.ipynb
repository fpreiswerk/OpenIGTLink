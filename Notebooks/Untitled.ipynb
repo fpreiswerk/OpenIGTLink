{
 "cells": [
  {
   "cell_type": "code",
   "execution_count": 6,
   "metadata": {
    "collapsed": false
   },
   "outputs": [
    {
     "name": "stdout",
     "output_type": "stream",
     "text": [
      "The autoreload extension is already loaded. To reload it, use:\n",
      "  %reload_ext autoreload\n",
      "Trying to Read Message File\n",
      "File Readed. Number of read messages: 50\n",
      "Trying to connect\n",
      "Socket Created\n",
      "Ip address of localhost is 127.0.0.1\n",
      "Connecting as a server. Waiting for other connections to continue...\n",
      "Socket Connected to localhost on ip 127.0.0.1\n",
      "Thread Called:  1  times\n",
      "Sending time to finish: Press Ctrl + C for end server [10:10:38]--[||||||||||||||||    ]Link could be death... Stopping Sending\n",
      "Sending time to finish: Press Ctrl + C for end server [10:11:02]--[||||||||||||||||||||] Finished!"
     ]
    }
   ],
   "source": [
    "%load_ext autoreload\n",
    "%autoreload 2\n",
    "import os\n",
    "import sys\n",
    "# Get current Directory\n",
    "wd = os.getcwd()\n",
    "# Add package to path\n",
    "sys.path.append(os.path.join(os.path.abspath(os.path.join(wd, os.pardir)), 'OpenIGTLink'))\n",
    "\n",
    "import OpenIGTLink\n",
    "\n",
    "messagefile = 'c:\\\\users\\\\emarin~1\\\\appdata\\\\local\\\\temp\\\\tmpmgiwwb'\n",
    "server = OpenIGTLink.OpenIGTLinkConnection(connectionType = 'server')\n",
    "server.loadFileMessages(messagefile)\n",
    "server.connect()\n",
    "server.startSending(120)"
   ]
  },
  {
   "cell_type": "code",
   "execution_count": null,
   "metadata": {
    "collapsed": true
   },
   "outputs": [],
   "source": []
  }
 ],
 "metadata": {
  "kernelspec": {
   "display_name": "Python 2",
   "language": "python",
   "name": "python2"
  },
  "language_info": {
   "codemirror_mode": {
    "name": "ipython",
    "version": 2
   },
   "file_extension": ".py",
   "mimetype": "text/x-python",
   "name": "python",
   "nbconvert_exporter": "python",
   "pygments_lexer": "ipython2",
   "version": "2.7.11"
  }
 },
 "nbformat": 4,
 "nbformat_minor": 0
}
