{
 "cells": [
  {
   "cell_type": "code",
   "execution_count": 2,
   "metadata": {
    "collapsed": false
   },
   "outputs": [
    {
     "name": "stdout",
     "output_type": "stream",
     "text": [
      "The autoreload extension is already loaded. To reload it, use:\n",
      "  %reload_ext autoreload\n",
      "Trying to Read Message File\n",
      "File Readed. Number of read messages: 50\n",
      "Trying to connect\n",
      "Socket Created\n",
      "Ip address of localhost is 127.0.0.1\n",
      "Connecting as a server. Waiting for connections...\n",
      "Thread Called:  1  times\n",
      "Sending time to finish: Press Ctrl + C for end server [15:00:55]--[|                   ]Adding new connection at 54270\n",
      "Sending time to finish: Press Ctrl + C for end server [15:01:15]--[||||                ]Adding new connection at 54277\n",
      "Sending time to finish: Press Ctrl + C for end server [15:01:26]--[||||||              ]* One link removed\n",
      "Sending time to finish: Press Ctrl + C for end server [15:02:51]--[||||||||||||||||||||] Finished!"
     ]
    }
   ],
   "source": [
    "%load_ext autoreload\n",
    "%autoreload 2\n",
    "import os\n",
    "import sys\n",
    "# Get current Directory\n",
    "wd = os.getcwd()\n",
    "# Add package to path\n",
    "sys.path.append('C:\\\\Dev\\\\BiiGTK\\\\src\\\\SlicerModules\\\\SordinaLIACGuidance\\\\OpenIGTLink')\n",
    "\n",
    "import OpenIGTLink\n",
    "\n",
    "messagefile = 'c:\\\\users\\\\emarin~1\\\\appdata\\\\local\\\\temp\\\\tmpmgiwwb'\n",
    "server = OpenIGTLink.OpenIGTLinkConnection(connectionType = 'server')\n",
    "server.loadFileMessages(messagefile)\n",
    "server.connect()\n",
    "server.startSending(120)"
   ]
  },
  {
   "cell_type": "code",
   "execution_count": null,
   "metadata": {
    "collapsed": false
   },
   "outputs": [],
   "source": [
    "import sys\n",
    "sys.stdout.write('hola')\n",
    "sys.stdout.write(' esto')"
   ]
  },
  {
   "cell_type": "code",
   "execution_count": null,
   "metadata": {
    "collapsed": false
   },
   "outputs": [],
   "source": [
    "server.disconnect()"
   ]
  },
  {
   "cell_type": "code",
   "execution_count": null,
   "metadata": {
    "collapsed": true
   },
   "outputs": [],
   "source": []
  }
 ],
 "metadata": {
  "kernelspec": {
   "display_name": "Python 2",
   "language": "python",
   "name": "python2"
  },
  "language_info": {
   "codemirror_mode": {
    "name": "ipython",
    "version": 2
   },
   "file_extension": ".py",
   "mimetype": "text/x-python",
   "name": "python",
   "nbconvert_exporter": "python",
   "pygments_lexer": "ipython2",
   "version": "2.7.11"
  }
 },
 "nbformat": 4,
 "nbformat_minor": 0
}
