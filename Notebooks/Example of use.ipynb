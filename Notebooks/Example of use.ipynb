{
 "cells": [
  {
   "cell_type": "code",
   "execution_count": null,
   "metadata": {
    "collapsed": false
   },
   "outputs": [],
   "source": [
    "%load_ext autoreload\n",
    "%autoreload 2\n",
    "import os\n",
    "import sys\n",
    "# Get current Directory\n",
    "wd = os.getcwd()\n",
    "# Add package to path\n",
    "sys.path.append(os.path.join(os.path.abspath(os.path.join(wd, os.pardir)), 'IGTLinkPython'))"
   ]
  },
  {
   "cell_type": "code",
   "execution_count": null,
   "metadata": {
    "collapsed": false
   },
   "outputs": [],
   "source": [
    "import OpenIGTLink\n",
    "import numpy"
   ]
  },
  {
   "cell_type": "markdown",
   "metadata": {},
   "source": [
    "## Create Header for IGTLink Message"
   ]
  },
  {
   "cell_type": "code",
   "execution_count": null,
   "metadata": {
    "collapsed": false
   },
   "outputs": [],
   "source": [
    "header = OpenIGTLink.OpenIGTLinkHeader()\n",
    "header.setTYPE('STATUS')\n",
    "header.setDEVICE_NAME('Device Name Example')\n",
    "header.setTIME_STAMP(123,0.456)\n",
    "\n",
    "bodyExample = 'This is an example of body message'\n",
    "header.setCRC64(bodyExample) # Need the body to calculate the CRC\n",
    "header.setBODY_SIZE(len(bodyExample))\n",
    "\n",
    "print header\n",
    "\n",
    "messageHeader = header.getHeaderMessage()\n",
    "headerTest = OpenIGTLink.OpenIGTLinkHeader()\n",
    "headerTest.unpack(messageHeader)\n",
    "headerTest.setCRC64(bodyExample)\n",
    "print headerTest"
   ]
  },
  {
   "cell_type": "markdown",
   "metadata": {},
   "source": [
    "## Create Body for IGTLink Message"
   ]
  },
  {
   "cell_type": "code",
   "execution_count": null,
   "metadata": {
    "collapsed": false
   },
   "outputs": [],
   "source": [
    "body = OpenIGTLink.OpenIGTLinkBody()\n",
    "bodyExample = 'This is an example of body message'\n",
    "body.setBodyMessage(bodyExample) # Need the body to calculate the CRC\n",
    "print body"
   ]
  },
  {
   "cell_type": "markdown",
   "metadata": {
    "collapsed": false
   },
   "source": [
    "## Create IGTLink Message"
   ]
  },
  {
   "cell_type": "code",
   "execution_count": null,
   "metadata": {
    "collapsed": false
   },
   "outputs": [],
   "source": [
    "igtmessage = OpenIGTLink.OpenIGTLinkMessage()\n",
    "igtmessage.header = OpenIGTLink.OpenIGTLinkHeader()\n",
    "igtmessage.header.setTYPE('STATUS')\n",
    "igtmessage.header.setDEVICE_NAME('Device Name Example')\n",
    "igtmessage.header.setTIME_STAMP(123,0.456)\n",
    "bodyExample = 'This is an example of body message'\n",
    "igtmessage.body.setBodyMessage(bodyExample)\n",
    "bodyCoding = '>' + 'c' * len(bodyExample)\n",
    "igtmessage.__updateMessage__(bodyCoding)\n",
    "print igtmessage"
   ]
  },
  {
   "cell_type": "markdown",
   "metadata": {},
   "source": [
    "## Create IGTLink TRANSFORM"
   ]
  },
  {
   "cell_type": "code",
   "execution_count": null,
   "metadata": {
    "collapsed": false
   },
   "outputs": [],
   "source": [
    "transform = OpenIGTLink.OpenIGTLinkTransform()\n",
    "\n",
    "npTransform = numpy.eye(4)\n",
    "npTransform[0,0] = 2\n",
    "npTransform[1,1] = 3\n",
    "npTransform[3,1] = 15\n",
    "\n",
    "message = transform.setOpenIGTLinkTransform( npTransform = npTransform,\\\n",
    "                                            floatTimeStamp = 123.456,\\\n",
    "                                            transformName = 'RigidToTracker Test')\n",
    "print transform\n",
    "\n",
    "transformTest = OpenIGTLink.OpenIGTLinkTransform()\n",
    "transformTest.header.unpack(message[0:transformTest.header.IGTLinkHeaderSize])\n",
    "transformTest.unpackTransform(message[transformTest.header.IGTLinkHeaderSize::])\n",
    "print transformTest"
   ]
  },
  {
   "cell_type": "markdown",
   "metadata": {},
   "source": [
    "## Create IGTLink STATUS"
   ]
  },
  {
   "cell_type": "code",
   "execution_count": null,
   "metadata": {
    "collapsed": false
   },
   "outputs": [],
   "source": [
    "status = OpenIGTLink.OpenIGTLinkStatus()\n",
    "message = status.setOpenIGTLinkStatus(statusCode = 9,\\\n",
    "                                         statusSubCode = 254,\\\n",
    "                                         errorName = 'Example Error Name',\\\n",
    "                                         statusMessage = None,\\\n",
    "                                         deviceName = 'Tracker',\\\n",
    "                                         floatTimeStamp = 123.456)\n",
    "print status\n",
    "\n",
    "statusTest = OpenIGTLink.OpenIGTLinkStatus()\n",
    "statusTest.header.unpack(message[0:transformTest.header.IGTLinkHeaderSize])\n",
    "statusTest.unpackStatus(message[transformTest.header.IGTLinkHeaderSize::])\n",
    "print statusTest"
   ]
  },
  {
   "cell_type": "markdown",
   "metadata": {},
   "source": [
    "## Read Real Messages and decode"
   ]
  },
  {
   "cell_type": "code",
   "execution_count": null,
   "metadata": {
    "collapsed": false,
    "scrolled": false
   },
   "outputs": [],
   "source": [
    "import struct\n",
    "messagefile = os.path.join(os.path.join(os.path.join(os.path.abspath(os.path.join(wd, os.pardir)),\\\n",
    "                                             'IGTLinkPython'),\\\n",
    "                                             'ExampleFiles'),\\\n",
    "                                             'ExampleMessages.txt')\n",
    "\n",
    "text_file = open(messagefile, \"r\")\n",
    "messages = text_file.read()\n",
    "text_file.close()\n",
    "\n",
    "firstMessage = messages[0:106]\n",
    "a =  repr(firstMessage)\n",
    "\n",
    "transform = OpenIGTLink.OpenIGTLinkTransform()\n",
    "transform.header.unpack(firstMessage[0:transform.header.IGTLinkHeaderSize])\n",
    "transform.unpackTransform(firstMessage[transform.header.IGTLinkHeaderSize::])\n",
    "print transform"
   ]
  },
  {
   "cell_type": "markdown",
   "metadata": {},
   "source": [
    "## Read Message File"
   ]
  },
  {
   "cell_type": "code",
   "execution_count": null,
   "metadata": {
    "collapsed": false
   },
   "outputs": [],
   "source": [
    "import pandas\n",
    "messagefile = os.path.join(os.path.join(os.path.join(os.path.abspath(os.path.join(wd, os.pardir)),\\\n",
    "                                             'IGTLinkPython'),\\\n",
    "                                             'ExampleFiles'),\\\n",
    "                                             'Model.csv')\n",
    "df = pandas.read_csv(messagefile)\n",
    "df"
   ]
  },
  {
   "cell_type": "code",
   "execution_count": null,
   "metadata": {
    "collapsed": false
   },
   "outputs": [],
   "source": [
    "messageList = list()\n",
    "for i in range(len(df.index)):\n",
    "    message = df.loc[i]\n",
    "    \n",
    "    m = None\n",
    "    if message['TYPE'] == 'TRANSFORM':\n",
    "        \n",
    "        npTransform = numpy.eye(4)\n",
    "        for ii in range(3):\n",
    "            for jj in range(4):\n",
    "                npTransform[ii,jj] = float(message['T' + str(ii) + str(jj)])\n",
    "        \n",
    "        \n",
    "        t = OpenIGTLink.OpenIGTLinkTransform()\n",
    "        m = t.setOpenIGTLinkTransform(npTransform = npTransform,\\\n",
    "            floatTimeStamp = float(message['TIME_STAMP']),\\\n",
    "            transformName = message['DEVICE_NAME'])\n",
    "        messageList.append(m)\n",
    "    \n",
    "    elif message['TYPE'] == 'STATUS':\n",
    "        s = OpenIGTLink.OpenIGTLinkStatus()\n",
    "        m = s.setOpenIGTLinkStatus(statusCode = int(message['CODE']),\\\n",
    "                                         statusSubCode = int(message['SUBCODE']),\\\n",
    "                                         errorName = message['ERROR_NAME'],\\\n",
    "                                         statusMessage = message['STATUS_MESSAGE'],\\\n",
    "                                         deviceName = message['DEVICE_NAME'],\\\n",
    "                                         floatTimeStamp = float(message['TIME_STAMP']))\n",
    "        messageList.append(m)\n",
    "    else:\n",
    "        print \"Problem realind row: \", i\n",
    "    \n",
    "print messageList"
   ]
  },
  {
   "cell_type": "markdown",
   "metadata": {},
   "source": [
    "## Create and launch server"
   ]
  },
  {
   "cell_type": "code",
   "execution_count": null,
   "metadata": {
    "collapsed": false
   },
   "outputs": [],
   "source": [
    "server = OpenIGTLink.OpenIGTLinkServer()\n",
    "server.loadFileMessages(messagefile)\n",
    "server.connect()\n",
    "server.startSending(10)"
   ]
  },
  {
   "cell_type": "code",
   "execution_count": null,
   "metadata": {
    "collapsed": false
   },
   "outputs": [],
   "source": [
    "import helpers\n",
    "helpers.PrintPercentage(52,'Hey')"
   ]
  },
  {
   "cell_type": "code",
   "execution_count": null,
   "metadata": {
    "collapsed": false
   },
   "outputs": [],
   "source": [
    "%load_ext autoreload\n",
    "%autoreload 2\n",
    "import os\n",
    "import sys\n",
    "# Get current Directory\n",
    "wd = os.getcwd()\n",
    "# Add package to path\n",
    "sys.path.append(os.path.join(os.path.abspath(os.path.join(wd, os.pardir)), 'IGTLinkPython'))\n",
    "import OpenIGTLink\n",
    "\n",
    "messagefile = os.path.join(os.path.join(os.path.join(os.path.abspath(os.path.join(wd, os.pardir)),\\\n",
    "                                             'IGTLinkPython'),\\\n",
    "                                             'ExampleFiles'),\\\n",
    "                                             'Model.csv')\n",
    "\n",
    "server = OpenIGTLink.OpenIGTLinkServer()\n",
    "server.loadFileMessages(messagefile)\n",
    "server.connect()\n",
    "server.startSending(10)"
   ]
  },
  {
   "cell_type": "code",
   "execution_count": null,
   "metadata": {
    "collapsed": false
   },
   "outputs": [],
   "source": []
  },
  {
   "cell_type": "code",
   "execution_count": null,
   "metadata": {
    "collapsed": false
   },
   "outputs": [],
   "source": []
  },
  {
   "cell_type": "code",
   "execution_count": null,
   "metadata": {
    "collapsed": true
   },
   "outputs": [],
   "source": []
  },
  {
   "cell_type": "code",
   "execution_count": null,
   "metadata": {
    "collapsed": true
   },
   "outputs": [],
   "source": []
  },
  {
   "cell_type": "code",
   "execution_count": null,
   "metadata": {
    "collapsed": true
   },
   "outputs": [],
   "source": []
  }
 ],
 "metadata": {
  "kernelspec": {
   "display_name": "Python 2",
   "language": "python",
   "name": "python2"
  },
  "language_info": {
   "codemirror_mode": {
    "name": "ipython",
    "version": 2
   },
   "file_extension": ".py",
   "mimetype": "text/x-python",
   "name": "python",
   "nbconvert_exporter": "python",
   "pygments_lexer": "ipython2",
   "version": "2.7.11"
  }
 },
 "nbformat": 4,
 "nbformat_minor": 0
}
