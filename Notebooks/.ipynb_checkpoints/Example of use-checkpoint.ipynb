{
 "cells": [
  {
   "cell_type": "code",
   "execution_count": 1,
   "metadata": {
    "collapsed": false
   },
   "outputs": [],
   "source": [
    "%load_ext autoreload\n",
    "%autoreload 2\n",
    "import os\n",
    "import sys\n",
    "# Get current Directory\n",
    "wd = os.getcwd()\n",
    "# Add package to path\n",
    "sys.path.append(os.path.join(os.path.abspath(os.path.join(wd, os.pardir)), 'IGTLinkPython'))"
   ]
  },
  {
   "cell_type": "code",
   "execution_count": 2,
   "metadata": {
    "collapsed": false
   },
   "outputs": [],
   "source": [
    "import OpenIGTLink\n",
    "import numpy"
   ]
  },
  {
   "cell_type": "markdown",
   "metadata": {},
   "source": [
    "## Create Header for IGTLink Message"
   ]
  },
  {
   "cell_type": "code",
   "execution_count": 3,
   "metadata": {
    "collapsed": false
   },
   "outputs": [
    {
     "name": "stdout",
     "output_type": "stream",
     "text": [
      "#### Header \n",
      "\n",
      "####        Version             :1\n",
      "####        Type                :STATUS\n",
      "####        Device Name         :Device Name Example\n",
      "####        Time Stamp          :123.456 sec.\n",
      "####        Body Size           :34 B\n",
      "####        CRC64               :7861050522609892203\n",
      "####        Byte Representation :'\\x00\\x01STATUS\\x00\\x00\\x00\\x00\\x00\\x00Device Name Example\\x00\\x00\\x00\\x00{t\\xbcj~\\x00\\x00\\x00\\x00\\x00\\x00\\x00\"m\\x18\\x0f\\xcc\\xf9\\x8f\\xbbk'\n",
      "\n",
      "\n",
      "#### Header \n",
      "\n",
      "####        Version             :1\n",
      "####        Type                :STATUS\n",
      "####        Device Name         :Device Name Example\n",
      "####        Time Stamp          :123.456 sec.\n",
      "####        Body Size           :34 B\n",
      "####        CRC64               :7861050522609892203\n",
      "####        Byte Representation :'\\x00\\x01STATUS\\x00\\x00\\x00\\x00\\x00\\x00Device Name Example\\x00\\x00\\x00\\x00{t\\xbcj~\\x00\\x00\\x00\\x00\\x00\\x00\\x00\"m\\x18\\x0f\\xcc\\xf9\\x8f\\xbbk'\n",
      "\n",
      "\n"
     ]
    }
   ],
   "source": [
    "header = OpenIGTLink.OpenIGTLinkHeader()\n",
    "header.setTYPE('STATUS')\n",
    "header.setDEVICE_NAME('Device Name Example')\n",
    "header.setTIME_STAMP(123,0.456)\n",
    "\n",
    "bodyExample = 'This is an example of body message'\n",
    "header.setCRC64(bodyExample) # Need the body to calculate the CRC\n",
    "header.setBODY_SIZE(len(bodyExample))\n",
    "\n",
    "print header\n",
    "\n",
    "messageHeader = header.getHeaderMessage()\n",
    "headerTest = OpenIGTLink.OpenIGTLinkHeader()\n",
    "headerTest.unpack(messageHeader)\n",
    "headerTest.setCRC64(bodyExample)\n",
    "print headerTest"
   ]
  },
  {
   "cell_type": "markdown",
   "metadata": {},
   "source": [
    "## Create Body for IGTLink Message"
   ]
  },
  {
   "cell_type": "code",
   "execution_count": 4,
   "metadata": {
    "collapsed": false
   },
   "outputs": [
    {
     "name": "stdout",
     "output_type": "stream",
     "text": [
      "#### Body \n",
      "\n",
      "####        Byte Representation :'This is an example of body message'\n",
      "\n",
      "\n"
     ]
    }
   ],
   "source": [
    "body = OpenIGTLink.OpenIGTLinkBody()\n",
    "bodyExample = 'This is an example of body message'\n",
    "body.setBodyMessage(bodyExample) # Need the body to calculate the CRC\n",
    "print body"
   ]
  },
  {
   "cell_type": "markdown",
   "metadata": {
    "collapsed": false
   },
   "source": [
    "## Create IGTLink Message"
   ]
  },
  {
   "cell_type": "code",
   "execution_count": 5,
   "metadata": {
    "collapsed": false
   },
   "outputs": [
    {
     "name": "stdout",
     "output_type": "stream",
     "text": [
      "########################\n",
      "\n",
      "#### IGTLink Message\n",
      "\n",
      "#### Header \n",
      "\n",
      "####        Version             :1\n",
      "####        Type                :STATUS\n",
      "####        Device Name         :Device Name Example\n",
      "####        Time Stamp          :123.456 sec.\n",
      "####        Body Size           :34 B\n",
      "####        CRC64               :7861050522609892203\n",
      "####        Byte Representation :'\\x00\\x01STATUS\\x00\\x00\\x00\\x00\\x00\\x00Device Name Example\\x00\\x00\\x00\\x00{t\\xbcj~\\x00\\x00\\x00\\x00\\x00\\x00\\x00\"m\\x18\\x0f\\xcc\\xf9\\x8f\\xbbk'\n",
      "\n",
      "#### Body \n",
      "\n",
      "####        Byte Representation :'This is an example of body message'\n",
      "\n",
      "########################\n",
      "\n"
     ]
    }
   ],
   "source": [
    "igtmessage = OpenIGTLink.OpenIGTLinkMessage()\n",
    "igtmessage.header = OpenIGTLink.OpenIGTLinkHeader()\n",
    "igtmessage.header.setTYPE('STATUS')\n",
    "igtmessage.header.setDEVICE_NAME('Device Name Example')\n",
    "igtmessage.header.setTIME_STAMP(123,0.456)\n",
    "bodyExample = 'This is an example of body message'\n",
    "igtmessage.body.setBodyMessage(bodyExample)\n",
    "bodyCoding = '>' + 'c' * len(bodyExample)\n",
    "igtmessage.__updateMessage__(bodyCoding)\n",
    "print igtmessage"
   ]
  },
  {
   "cell_type": "markdown",
   "metadata": {},
   "source": [
    "## Create IGTLink TRANSFORM"
   ]
  },
  {
   "cell_type": "code",
   "execution_count": 6,
   "metadata": {
    "collapsed": false
   },
   "outputs": [
    {
     "name": "stdout",
     "output_type": "stream",
     "text": [
      "########################\n",
      "\n",
      "#### Transform Message\n",
      "\n",
      "####        Transform           :\n",
      "[[  2.   0.   0.   0.]\n",
      " [  0.   3.   0.   0.]\n",
      " [  0.   0.   1.   0.]\n",
      " [  0.  15.   0.   1.]]\n",
      "####        Byte Representation :'\\x00\\x01TRANSFORM\\x00\\x00\\x00RigidToTracker Test\\x00\\x00\\x00\\x00{t\\xbcj~\\x00\\x00\\x00\\x00\\x00\\x00\\x000\\xfe,\\xacE*ES\\xec@\\x00\\x00\\x00\\x00\\x00\\x00\\x00\\x00\\x00\\x00\\x00\\x00\\x00\\x00\\x00@@\\x00\\x00\\x00\\x00\\x00\\x00\\x00\\x00\\x00\\x00\\x00\\x00\\x00\\x00?\\x80\\x00\\x00\\x00\\x00\\x00\\x00\\x00\\x00\\x00\\x00\\x00\\x00\\x00\\x00'\n",
      "\n",
      "########################\n",
      "\n",
      "########################\n",
      "\n",
      "#### Transform Message\n",
      "\n",
      "####        Transform           :\n",
      "[[ 2.  0.  0.  0.]\n",
      " [ 0.  3.  0.  0.]\n",
      " [ 0.  0.  1.  0.]\n",
      " [ 0.  0.  0.  1.]]\n",
      "####        Byte Representation :'\\x00\\x01TRANSFORM\\x00\\x00\\x00RigidToTracker Test\\x00\\x00\\x00\\x00{t\\xbcj~\\x00\\x00\\x00\\x00\\x00\\x00\\x000\\xfe,\\xacE*ES\\xec@\\x00\\x00\\x00\\x00\\x00\\x00\\x00\\x00\\x00\\x00\\x00\\x00\\x00\\x00\\x00@@\\x00\\x00\\x00\\x00\\x00\\x00\\x00\\x00\\x00\\x00\\x00\\x00\\x00\\x00?\\x80\\x00\\x00\\x00\\x00\\x00\\x00\\x00\\x00\\x00\\x00\\x00\\x00\\x00\\x00'\n",
      "\n",
      "########################\n",
      "\n"
     ]
    }
   ],
   "source": [
    "transform = OpenIGTLink.OpenIGTLinkTransform()\n",
    "\n",
    "npTransform = numpy.eye(4)\n",
    "npTransform[0,0] = 2\n",
    "npTransform[1,1] = 3\n",
    "npTransform[3,1] = 15\n",
    "\n",
    "message = transform.setOpenIGTLinkTransform( npTransform = npTransform,\\\n",
    "                                            floatTimeStamp = 123.456,\\\n",
    "                                            transformName = 'RigidToTracker Test')\n",
    "print transform\n",
    "\n",
    "transformTest = OpenIGTLink.OpenIGTLinkTransform()\n",
    "transformTest.header.unpack(message[0:transformTest.header.IGTLinkHeaderSize])\n",
    "transformTest.unpackTransform(message[transformTest.header.IGTLinkHeaderSize::])\n",
    "print transformTest"
   ]
  },
  {
   "cell_type": "markdown",
   "metadata": {},
   "source": [
    "## Create IGTLink STATUS"
   ]
  },
  {
   "cell_type": "code",
   "execution_count": 7,
   "metadata": {
    "collapsed": false
   },
   "outputs": [
    {
     "name": "stdout",
     "output_type": "stream",
     "text": [
      "########################\n",
      "\n",
      "#### Status Message\n",
      "\n",
      "####        Status Code         :9\n",
      "####        Status Subcode      :254\n",
      "####        Error Name          :Example Error Name\n",
      "####        Status Message      :Checksum error\n",
      "####        Byte Representation :'\\x00\\x01STATUS\\x00\\x00\\x00\\x00\\x00\\x00Tracker\\x00\\x00\\x00\\x00\\x00\\x00\\x00\\x00\\x00\\x00\\x00\\x00\\x00\\x00\\x00\\x00{t\\xbcj~\\x00\\x00\\x00\\x00\\x00\\x00\\x00,\\x80O:\\x17\\xd2\\xc5\\xb1g\\x00\\t\\x00\\x00\\x00\\x00\\x00\\x00\\x00\\xfeExample Error Name\\x00\\x00Checksum error'\n",
      "\n",
      "########################\n",
      "\n",
      "########################\n",
      "\n",
      "#### Status Message\n",
      "\n",
      "####        Status Code         :9\n",
      "####        Status Subcode      :254\n",
      "####        Error Name          :Example Error Name\n",
      "####        Status Message      :Checksum error\n",
      "####        Byte Representation :'\\x00\\x01STATUS\\x00\\x00\\x00\\x00\\x00\\x00Tracker\\x00\\x00\\x00\\x00\\x00\\x00\\x00\\x00\\x00\\x00\\x00\\x00\\x00\\x00\\x00\\x00{t\\xbcj~\\x00\\x00\\x00\\x00\\x00\\x00\\x00,\\x80O:\\x17\\xd2\\xc5\\xb1g\\x00\\t\\x00\\x00\\x00\\x00\\x00\\x00\\x00\\xfeExample Error Name\\x00\\x00Checksum error'\n",
      "\n",
      "########################\n",
      "\n"
     ]
    }
   ],
   "source": [
    "status = OpenIGTLink.OpenIGTLinkStatus()\n",
    "message = status.setOpenIGTLinkStatus(statusCode = 9,\\\n",
    "                                         statusSubCode = 254,\\\n",
    "                                         errorName = 'Example Error Name',\\\n",
    "                                         statusMessage = None,\\\n",
    "                                         deviceName = 'Tracker',\\\n",
    "                                         floatTimeStamp = 123.456)\n",
    "print status\n",
    "\n",
    "statusTest = OpenIGTLink.OpenIGTLinkStatus()\n",
    "statusTest.header.unpack(message[0:transformTest.header.IGTLinkHeaderSize])\n",
    "statusTest.unpackStatus(message[transformTest.header.IGTLinkHeaderSize::])\n",
    "print statusTest"
   ]
  },
  {
   "cell_type": "markdown",
   "metadata": {},
   "source": [
    "## Read Real Messages and decode"
   ]
  },
  {
   "cell_type": "code",
   "execution_count": 8,
   "metadata": {
    "collapsed": false,
    "scrolled": false
   },
   "outputs": [
    {
     "name": "stdout",
     "output_type": "stream",
     "text": [
      "########################\n",
      "\n",
      "#### Transform Message\n",
      "\n",
      "####        Transform           :\n",
      "[[ 0.87825376 -0.30983841  0.3642396   0.        ]\n",
      " [ 0.36942083  0.9232685  -0.10537352  0.        ]\n",
      " [-0.30364218  0.22710238  0.9253248   0.        ]\n",
      " [ 0.          0.          0.          1.        ]]\n",
      "####        Byte Representation :'\\x00\\x01TRANSFORM\\x00\\x00\\x00OSaToFirstIMU\\x00\\x00\\x00\\x00\\x00\\x00\\x00V\\xe9*\\xbd}\\xf3\\xb8\\x17\\x00\\x00\\x00\\x00\\x00\\x00\\x000=\\\\\\x92xjj \\xb3?`\\xd5=>\\xbd$\\xba\\xbe\\x9bv\\xfd\\xbe\\x9e\\xa3$?l[S>h\\x8d\\x87>\\xba}\\x9d\\xbd\\xd7\\xce\\x12?l\\xe2\\x16\\x00\\x00\\x00\\x00\\x00\\x00\\x00\\x00\\x00\\x00\\x00\\x00'\n",
      "\n",
      "########################\n",
      "\n"
     ]
    }
   ],
   "source": [
    "import struct\n",
    "messagefile = os.path.join(os.path.join(os.path.join(os.path.abspath(os.path.join(wd, os.pardir)),\\\n",
    "                                             'IGTLinkPython'),\\\n",
    "                                             'ExampleFiles'),\\\n",
    "                                             'ExampleMessages.txt')\n",
    "\n",
    "text_file = open(messagefile, \"r\")\n",
    "messages = text_file.read()\n",
    "text_file.close()\n",
    "\n",
    "firstMessage = messages[0:106]\n",
    "a =  repr(firstMessage)\n",
    "\n",
    "transform = OpenIGTLink.OpenIGTLinkTransform()\n",
    "transform.header.unpack(firstMessage[0:transform.header.IGTLinkHeaderSize])\n",
    "transform.unpackTransform(firstMessage[transform.header.IGTLinkHeaderSize::])\n",
    "print transform"
   ]
  },
  {
   "cell_type": "markdown",
   "metadata": {},
   "source": [
    "## Read Message File"
   ]
  },
  {
   "cell_type": "code",
   "execution_count": 9,
   "metadata": {
    "collapsed": false
   },
   "outputs": [
    {
     "data": {
      "text/html": [
       "<div>\n",
       "<table border=\"1\" class=\"dataframe\">\n",
       "  <thead>\n",
       "    <tr style=\"text-align: right;\">\n",
       "      <th></th>\n",
       "      <th>TYPE</th>\n",
       "      <th>DEVICE_NAME</th>\n",
       "      <th>TIME_STAMP</th>\n",
       "      <th>T00</th>\n",
       "      <th>T01</th>\n",
       "      <th>T02</th>\n",
       "      <th>T03</th>\n",
       "      <th>T10</th>\n",
       "      <th>T11</th>\n",
       "      <th>T12</th>\n",
       "      <th>T13</th>\n",
       "      <th>T20</th>\n",
       "      <th>T21</th>\n",
       "      <th>T22</th>\n",
       "      <th>T23</th>\n",
       "      <th>CODE</th>\n",
       "      <th>SUBCODE</th>\n",
       "      <th>ERROR_NAME</th>\n",
       "      <th>STATUS_MESSAGE</th>\n",
       "    </tr>\n",
       "  </thead>\n",
       "  <tbody>\n",
       "    <tr>\n",
       "      <th>0</th>\n",
       "      <td>TRANSFORM</td>\n",
       "      <td>RigidToTracker</td>\n",
       "      <td>0</td>\n",
       "      <td>1</td>\n",
       "      <td>2</td>\n",
       "      <td>3</td>\n",
       "      <td>4</td>\n",
       "      <td>5</td>\n",
       "      <td>6</td>\n",
       "      <td>7</td>\n",
       "      <td>8</td>\n",
       "      <td>9</td>\n",
       "      <td>10</td>\n",
       "      <td>11</td>\n",
       "      <td>12</td>\n",
       "      <td>NaN</td>\n",
       "      <td>NaN</td>\n",
       "      <td>NaN</td>\n",
       "      <td>NaN</td>\n",
       "    </tr>\n",
       "    <tr>\n",
       "      <th>1</th>\n",
       "      <td>STATUS</td>\n",
       "      <td>My Device</td>\n",
       "      <td>0</td>\n",
       "      <td>NaN</td>\n",
       "      <td>NaN</td>\n",
       "      <td>NaN</td>\n",
       "      <td>NaN</td>\n",
       "      <td>NaN</td>\n",
       "      <td>NaN</td>\n",
       "      <td>NaN</td>\n",
       "      <td>NaN</td>\n",
       "      <td>NaN</td>\n",
       "      <td>NaN</td>\n",
       "      <td>NaN</td>\n",
       "      <td>NaN</td>\n",
       "      <td>1</td>\n",
       "      <td>0</td>\n",
       "      <td>OK</td>\n",
       "      <td>This is a status message</td>\n",
       "    </tr>\n",
       "  </tbody>\n",
       "</table>\n",
       "</div>"
      ],
      "text/plain": [
       "        TYPE     DEVICE_NAME  TIME_STAMP  T00  T01  T02  T03  T10  T11  T12  \\\n",
       "0  TRANSFORM  RigidToTracker           0    1    2    3    4    5    6    7   \n",
       "1     STATUS       My Device           0  NaN  NaN  NaN  NaN  NaN  NaN  NaN   \n",
       "\n",
       "   T13  T20  T21  T22  T23  CODE  SUBCODE ERROR_NAME            STATUS_MESSAGE  \n",
       "0    8    9   10   11   12   NaN      NaN        NaN                       NaN  \n",
       "1  NaN  NaN  NaN  NaN  NaN     1        0         OK  This is a status message  "
      ]
     },
     "execution_count": 9,
     "metadata": {},
     "output_type": "execute_result"
    }
   ],
   "source": [
    "import pandas\n",
    "messagefile = os.path.join(os.path.join(os.path.join(os.path.abspath(os.path.join(wd, os.pardir)),\\\n",
    "                                             'IGTLinkPython'),\\\n",
    "                                             'ExampleFiles'),\\\n",
    "                                             'Model.csv')\n",
    "df = pandas.read_csv(messagefile)\n",
    "df"
   ]
  },
  {
   "cell_type": "code",
   "execution_count": 10,
   "metadata": {
    "collapsed": false
   },
   "outputs": [
    {
     "name": "stdout",
     "output_type": "stream",
     "text": [
      "['\\x00\\x01TRANSFORM\\x00\\x00\\x00RigidToTracker\\x00\\x00\\x00\\x00\\x00\\x00\\x00\\x00\\x00\\x00\\x00\\x00\\x00\\x00\\x00\\x00\\x00\\x00\\x00\\x00\\x000\\x0eW\\xb0\\xbd\\xf4;Cm?\\x80\\x00\\x00@\\xa0\\x00\\x00A\\x10\\x00\\x00@\\x00\\x00\\x00@\\xc0\\x00\\x00A \\x00\\x00@@\\x00\\x00@\\xe0\\x00\\x00A0\\x00\\x00@\\x80\\x00\\x00A\\x00\\x00\\x00A@\\x00\\x00', '\\x00\\x01STATUS\\x00\\x00\\x00\\x00\\x00\\x00My Device\\x00\\x00\\x00\\x00\\x00\\x00\\x00\\x00\\x00\\x00\\x00\\x00\\x00\\x00\\x00\\x00\\x00\\x00\\x00\\x00\\x00\\x00\\x00\\x00\\x00\\x0069 \\xd2bl\\xce\\x1d\\xd0\\x00\\x01\\x00\\x00\\x00\\x00\\x00\\x00\\x00\\x00OK\\x00\\x00\\x00\\x00\\x00\\x00\\x00\\x00\\x00\\x00\\x00\\x00\\x00\\x00\\x00\\x00\\x00\\x00This is a status message']\n"
     ]
    }
   ],
   "source": [
    "messageList = list()\n",
    "for i in range(len(df.index)):\n",
    "    message = df.loc[i]\n",
    "    \n",
    "    m = None\n",
    "    if message['TYPE'] == 'TRANSFORM':\n",
    "        \n",
    "        npTransform = numpy.eye(4)\n",
    "        for ii in range(3):\n",
    "            for jj in range(4):\n",
    "                npTransform[ii,jj] = float(message['T' + str(ii) + str(jj)])\n",
    "        \n",
    "        \n",
    "        t = OpenIGTLink.OpenIGTLinkTransform()\n",
    "        m = t.setOpenIGTLinkTransform(npTransform = npTransform,\\\n",
    "            floatTimeStamp = float(message['TIME_STAMP']),\\\n",
    "            transformName = message['DEVICE_NAME'])\n",
    "        messageList.append(m)\n",
    "    \n",
    "    elif message['TYPE'] == 'STATUS':\n",
    "        s = OpenIGTLink.OpenIGTLinkStatus()\n",
    "        m = s.setOpenIGTLinkStatus(statusCode = int(message['CODE']),\\\n",
    "                                         statusSubCode = int(message['SUBCODE']),\\\n",
    "                                         errorName = message['ERROR_NAME'],\\\n",
    "                                         statusMessage = message['STATUS_MESSAGE'],\\\n",
    "                                         deviceName = message['DEVICE_NAME'],\\\n",
    "                                         floatTimeStamp = float(message['TIME_STAMP']))\n",
    "        messageList.append(m)\n",
    "    else:\n",
    "        print \"Problem realind row: \", i\n",
    "    \n",
    "print messageList"
   ]
  },
  {
   "cell_type": "markdown",
   "metadata": {},
   "source": [
    "## Create and launch server"
   ]
  },
  {
   "cell_type": "code",
   "execution_count": null,
   "metadata": {
    "collapsed": false
   },
   "outputs": [
    {
     "name": "stdout",
     "output_type": "stream",
     "text": [
      "Trying to Read Message File\n",
      "File Readed. Number of read messages: 2\n",
      "Trying to connect\n",
      "Socket Created\n",
      "Ip address of localhost is 127.0.0.1\n",
      "Socket Connected to localhost on ip 127.0.0.1"
     ]
    }
   ],
   "source": [
    "server = OpenIGTLink.OpenIGTLinkServer()\n",
    "server.loadFileMessages(messagefile)\n",
    "server.connect()\n",
    "server.startSending(10)"
   ]
  },
  {
   "cell_type": "code",
   "execution_count": 12,
   "metadata": {
    "collapsed": false
   },
   "outputs": [
    {
     "ename": "AttributeError",
     "evalue": "OpenIGTLinkServer instance has no attribute 'stop'",
     "output_type": "error",
     "traceback": [
      "\u001b[1;31m---------------------------------------------------------------------------\u001b[0m",
      "\u001b[1;31mAttributeError\u001b[0m                            Traceback (most recent call last)",
      "\u001b[1;32m<ipython-input-12-7229ee78314d>\u001b[0m in \u001b[0;36m<module>\u001b[1;34m()\u001b[0m\n\u001b[1;32m----> 1\u001b[1;33m \u001b[0mserver\u001b[0m\u001b[1;33m.\u001b[0m\u001b[0mstop\u001b[0m\u001b[1;33m\u001b[0m\u001b[0m\n\u001b[0m",
      "\u001b[1;31mAttributeError\u001b[0m: OpenIGTLinkServer instance has no attribute 'stop'"
     ]
    }
   ],
   "source": []
  },
  {
   "cell_type": "code",
   "execution_count": null,
   "metadata": {
    "collapsed": false
   },
   "outputs": [],
   "source": []
  },
  {
   "cell_type": "code",
   "execution_count": null,
   "metadata": {
    "collapsed": false
   },
   "outputs": [],
   "source": []
  },
  {
   "cell_type": "code",
   "execution_count": null,
   "metadata": {
    "collapsed": false
   },
   "outputs": [],
   "source": []
  },
  {
   "cell_type": "code",
   "execution_count": null,
   "metadata": {
    "collapsed": true
   },
   "outputs": [],
   "source": []
  },
  {
   "cell_type": "code",
   "execution_count": null,
   "metadata": {
    "collapsed": true
   },
   "outputs": [],
   "source": []
  },
  {
   "cell_type": "code",
   "execution_count": null,
   "metadata": {
    "collapsed": true
   },
   "outputs": [],
   "source": []
  }
 ],
 "metadata": {
  "kernelspec": {
   "display_name": "Python 2",
   "language": "python",
   "name": "python2"
  },
  "language_info": {
   "codemirror_mode": {
    "name": "ipython",
    "version": 2
   },
   "file_extension": ".py",
   "mimetype": "text/x-python",
   "name": "python",
   "nbconvert_exporter": "python",
   "pygments_lexer": "ipython2",
   "version": "2.7.11"
  }
 },
 "nbformat": 4,
 "nbformat_minor": 0
}
