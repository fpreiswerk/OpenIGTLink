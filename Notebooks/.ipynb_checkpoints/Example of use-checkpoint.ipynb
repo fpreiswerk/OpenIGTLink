{
 "cells": [
  {
   "cell_type": "code",
   "execution_count": 4,
   "metadata": {
    "collapsed": false
   },
   "outputs": [
    {
     "name": "stdout",
     "output_type": "stream",
     "text": [
      "waiting...\n",
      "The autoreload extension is already loaded. To reload it, use:\n",
      "  %reload_ext autoreload\n"
     ]
    }
   ],
   "source": [
    "%load_ext autoreload\n",
    "%autoreload 2\n",
    "import os\n",
    "import sys\n",
    "# Get current Directory\n",
    "wd = os.getcwd()\n",
    "# Add package to path\n",
    "sys.path.append(os.path.join(os.path.abspath(os.path.join(wd, os.pardir)), 'OpenIGTLink'))"
   ]
  },
  {
   "cell_type": "code",
   "execution_count": 5,
   "metadata": {
    "collapsed": false
   },
   "outputs": [],
   "source": [
    "import OpenIGTLink\n",
    "import numpy"
   ]
  },
  {
   "cell_type": "markdown",
   "metadata": {},
   "source": [
    "## Create Header for IGTLink Message"
   ]
  },
  {
   "cell_type": "code",
   "execution_count": 6,
   "metadata": {
    "collapsed": false
   },
   "outputs": [
    {
     "name": "stdout",
     "output_type": "stream",
     "text": [
      "#### Header \n",
      "\n",
      "####        Version             :1\n",
      "####        Type                :STATUS\n",
      "####        Device Name         :Device Name Example\n",
      "####        Time Stamp          :123.456 sec.\n",
      "####        Body Size           :34 B\n",
      "####        CRC64               :7861050522609892203\n",
      "####        Byte Representation :'\\x00\\x01STATUS\\x00\\x00\\x00\\x00\\x00\\x00Device Name Example\\x00\\x00\\x00\\x00{t\\xbcj~\\x00\\x00\\x00\\x00\\x00\\x00\\x00\"m\\x18\\x0f\\xcc\\xf9\\x8f\\xbbk'\n",
      "\n",
      "\n",
      "#### Header \n",
      "\n",
      "####        Version             :1\n",
      "####        Type                :STATUS\n",
      "####        Device Name         :Device Name Example\n",
      "####        Time Stamp          :123.456 sec.\n",
      "####        Body Size           :34 B\n",
      "####        CRC64               :7861050522609892203\n",
      "####        Byte Representation :'\\x00\\x01STATUS\\x00\\x00\\x00\\x00\\x00\\x00Device Name Example\\x00\\x00\\x00\\x00{t\\xbcj~\\x00\\x00\\x00\\x00\\x00\\x00\\x00\"m\\x18\\x0f\\xcc\\xf9\\x8f\\xbbk'\n",
      "\n",
      "\n"
     ]
    }
   ],
   "source": [
    "header = OpenIGTLink.OpenIGTLinkHeader()\n",
    "header.setTYPE('STATUS')\n",
    "header.setDEVICE_NAME('Device Name Example')\n",
    "header.setTIME_STAMP(123,0.456)\n",
    "\n",
    "bodyExample = 'This is an example of body message'\n",
    "header.setCRC64(bodyExample) # Need the body to calculate the CRC\n",
    "header.setBODY_SIZE(len(bodyExample))\n",
    "\n",
    "print header\n",
    "\n",
    "messageHeader = header.getHeaderMessage()\n",
    "headerTest = OpenIGTLink.OpenIGTLinkHeader()\n",
    "headerTest.unpack(messageHeader)\n",
    "headerTest.setCRC64(bodyExample)\n",
    "print headerTest"
   ]
  },
  {
   "cell_type": "markdown",
   "metadata": {},
   "source": [
    "## Create Body for IGTLink Message"
   ]
  },
  {
   "cell_type": "code",
   "execution_count": 7,
   "metadata": {
    "collapsed": false
   },
   "outputs": [
    {
     "name": "stdout",
     "output_type": "stream",
     "text": [
      "#### Body \n",
      "\n",
      "####        Byte Representation :'This is an example of body message'\n",
      "\n",
      "\n"
     ]
    }
   ],
   "source": [
    "body = OpenIGTLink.OpenIGTLinkBody()\n",
    "bodyExample = 'This is an example of body message'\n",
    "body.setBodyMessage(bodyExample) # Need the body to calculate the CRC\n",
    "print body"
   ]
  },
  {
   "cell_type": "markdown",
   "metadata": {
    "collapsed": false
   },
   "source": [
    "## Create IGTLink Message"
   ]
  },
  {
   "cell_type": "code",
   "execution_count": 8,
   "metadata": {
    "collapsed": false
   },
   "outputs": [
    {
     "name": "stdout",
     "output_type": "stream",
     "text": [
      "########################\n",
      "\n",
      "#### IGTLink Message\n",
      "\n",
      "#### Header \n",
      "\n",
      "####        Version             :1\n",
      "####        Type                :STATUS\n",
      "####        Device Name         :Device Name Example\n",
      "####        Time Stamp          :123.456 sec.\n",
      "####        Body Size           :34 B\n",
      "####        CRC64               :7861050522609892203\n",
      "####        Byte Representation :'\\x00\\x01STATUS\\x00\\x00\\x00\\x00\\x00\\x00Device Name Example\\x00\\x00\\x00\\x00{t\\xbcj~\\x00\\x00\\x00\\x00\\x00\\x00\\x00\"m\\x18\\x0f\\xcc\\xf9\\x8f\\xbbk'\n",
      "\n",
      "#### Body \n",
      "\n",
      "####        Byte Representation :'This is an example of body message'\n",
      "\n",
      "########################\n",
      "\n"
     ]
    }
   ],
   "source": [
    "igtmessage = OpenIGTLink.OpenIGTLinkMessage()\n",
    "igtmessage.header = OpenIGTLink.OpenIGTLinkHeader()\n",
    "igtmessage.header.setTYPE('STATUS')\n",
    "igtmessage.header.setDEVICE_NAME('Device Name Example')\n",
    "igtmessage.header.setTIME_STAMP(123,0.456)\n",
    "bodyExample = 'This is an example of body message'\n",
    "igtmessage.body.setBodyMessage(bodyExample)\n",
    "bodyCoding = '>' + 'c' * len(bodyExample)\n",
    "igtmessage.__updateMessage__(bodyCoding)\n",
    "print igtmessage"
   ]
  },
  {
   "cell_type": "markdown",
   "metadata": {},
   "source": [
    "## Create IGTLink TRANSFORM"
   ]
  },
  {
   "cell_type": "code",
   "execution_count": 9,
   "metadata": {
    "collapsed": false
   },
   "outputs": [
    {
     "name": "stdout",
     "output_type": "stream",
     "text": [
      "########################\n",
      "\n",
      "#### Transform Message\n",
      "\n",
      "####        Transform           :\n",
      "[[  2.   0.   0.   0.]\n",
      " [  0.   3.   0.   0.]\n",
      " [  0.   0.   1.   0.]\n",
      " [  0.  15.   0.   1.]]\n",
      "####        Byte Representation :'\\x00\\x01TRANSFORM\\x00\\x00\\x00RigidToTracker Test\\x00\\x00\\x00\\x00{t\\xbcj~\\x00\\x00\\x00\\x00\\x00\\x00\\x000\\xfe,\\xacE*ES\\xec@\\x00\\x00\\x00\\x00\\x00\\x00\\x00\\x00\\x00\\x00\\x00\\x00\\x00\\x00\\x00@@\\x00\\x00\\x00\\x00\\x00\\x00\\x00\\x00\\x00\\x00\\x00\\x00\\x00\\x00?\\x80\\x00\\x00\\x00\\x00\\x00\\x00\\x00\\x00\\x00\\x00\\x00\\x00\\x00\\x00'\n",
      "\n",
      "########################\n",
      "\n",
      "########################\n",
      "\n",
      "#### Transform Message\n",
      "\n",
      "####        Transform           :\n",
      "[[ 2.  0.  0.  0.]\n",
      " [ 0.  3.  0.  0.]\n",
      " [ 0.  0.  1.  0.]\n",
      " [ 0.  0.  0.  1.]]\n",
      "####        Byte Representation :'\\x00\\x01TRANSFORM\\x00\\x00\\x00RigidToTracker Test\\x00\\x00\\x00\\x00{t\\xbcj~\\x00\\x00\\x00\\x00\\x00\\x00\\x000\\xfe,\\xacE*ES\\xec@\\x00\\x00\\x00\\x00\\x00\\x00\\x00\\x00\\x00\\x00\\x00\\x00\\x00\\x00\\x00@@\\x00\\x00\\x00\\x00\\x00\\x00\\x00\\x00\\x00\\x00\\x00\\x00\\x00\\x00?\\x80\\x00\\x00\\x00\\x00\\x00\\x00\\x00\\x00\\x00\\x00\\x00\\x00\\x00\\x00'\n",
      "\n",
      "########################\n",
      "\n"
     ]
    }
   ],
   "source": [
    "transform = OpenIGTLink.OpenIGTLinkTransform()\n",
    "\n",
    "npTransform = numpy.eye(4)\n",
    "npTransform[0,0] = 2\n",
    "npTransform[1,1] = 3\n",
    "npTransform[3,1] = 15\n",
    "\n",
    "message = transform.setOpenIGTLinkTransform( npTransform = npTransform,\\\n",
    "                                            floatTimeStamp = 123.456,\\\n",
    "                                            transformName = 'RigidToTracker Test')\n",
    "print transform\n",
    "\n",
    "transformTest = OpenIGTLink.OpenIGTLinkTransform()\n",
    "transformTest.header.unpack(message[0:transformTest.header.IGTLinkHeaderSize])\n",
    "transformTest.unpackTransform(message[transformTest.header.IGTLinkHeaderSize::])\n",
    "print transformTest"
   ]
  },
  {
   "cell_type": "markdown",
   "metadata": {},
   "source": [
    "## Create IGTLink STATUS"
   ]
  },
  {
   "cell_type": "code",
   "execution_count": 10,
   "metadata": {
    "collapsed": false
   },
   "outputs": [
    {
     "name": "stdout",
     "output_type": "stream",
     "text": [
      "########################\n",
      "\n",
      "#### Status Message\n",
      "\n",
      "####        Status Code         :9\n",
      "####        Status Subcode      :254\n",
      "####        Error Name          :Example Error Name\n",
      "####        Status Message      :Checksum error\n",
      "####        Byte Representation :'\\x00\\x01STATUS\\x00\\x00\\x00\\x00\\x00\\x00Tracker\\x00\\x00\\x00\\x00\\x00\\x00\\x00\\x00\\x00\\x00\\x00\\x00\\x00\\x00\\x00\\x00{t\\xbcj~\\x00\\x00\\x00\\x00\\x00\\x00\\x00,\\x80O:\\x17\\xd2\\xc5\\xb1g\\x00\\t\\x00\\x00\\x00\\x00\\x00\\x00\\x00\\xfeExample Error Name\\x00\\x00Checksum error'\n",
      "\n",
      "########################\n",
      "\n",
      "########################\n",
      "\n",
      "#### Status Message\n",
      "\n",
      "####        Status Code         :9\n",
      "####        Status Subcode      :254\n",
      "####        Error Name          :Example Error Name\n",
      "####        Status Message      :Checksum error\n",
      "####        Byte Representation :'\\x00\\x01STATUS\\x00\\x00\\x00\\x00\\x00\\x00Tracker\\x00\\x00\\x00\\x00\\x00\\x00\\x00\\x00\\x00\\x00\\x00\\x00\\x00\\x00\\x00\\x00{t\\xbcj~\\x00\\x00\\x00\\x00\\x00\\x00\\x00,\\x80O:\\x17\\xd2\\xc5\\xb1g\\x00\\t\\x00\\x00\\x00\\x00\\x00\\x00\\x00\\xfeExample Error Name\\x00\\x00Checksum error'\n",
      "\n",
      "########################\n",
      "\n"
     ]
    }
   ],
   "source": [
    "status = OpenIGTLink.OpenIGTLinkStatus()\n",
    "message = status.setOpenIGTLinkStatus(statusCode = 9,\\\n",
    "                                         statusSubCode = 254,\\\n",
    "                                         errorName = 'Example Error Name',\\\n",
    "                                         statusMessage = None,\\\n",
    "                                         deviceName = 'Tracker',\\\n",
    "                                         floatTimeStamp = 123.456)\n",
    "print status\n",
    "\n",
    "statusTest = OpenIGTLink.OpenIGTLinkStatus()\n",
    "statusTest.header.unpack(message[0:transformTest.header.IGTLinkHeaderSize])\n",
    "statusTest.unpackStatus(message[transformTest.header.IGTLinkHeaderSize::])\n",
    "print statusTest"
   ]
  },
  {
   "cell_type": "markdown",
   "metadata": {},
   "source": [
    "## Read Real Messages and decode"
   ]
  },
  {
   "cell_type": "code",
   "execution_count": 19,
   "metadata": {
    "collapsed": false,
    "scrolled": false
   },
   "outputs": [
    {
     "name": "stdout",
     "output_type": "stream",
     "text": [
      "'\\x00\\x01TRANSFORM\\x00\\x00\\x00OSaToFirstIMU\\x00\\x00\\x00\\x00\\x00\\x00\\x00V\\xe9*\\xbd}\\xf3\\xb8\\x17\\x00\\x00\\x00\\x00\\x00\\x00\\x000=\\\\\\x92xjj \\xb3?`\\xd5=>\\xbd$\\xba\\xbe\\x9bv\\xfd\\xbe\\x9e\\xa3$?l[S>h\\x8d\\x87>\\xba}\\x9d\\xbd\\xd7\\xce\\x12?l\\xe2\\x16\\x00\\x00\\x00\\x00\\x00\\x00\\x00\\x00\\x00\\x00\\x00\\x00'\n",
      "'\\x00\\x01TRANSFORM\\x00\\x00\\x00OSaToFirstIMU\\x00\\x00\\x00\\x00\\x00\\x00\\x00V\\xe9*\\xbd}\\xf3\\xb8\\x17\\x00\\x00\\x00\\x00\\x00\\x00\\x0007\\x05i\\x07\\x8e\\xd6\\xc3a?`\\xd5=>\\xbd$\\xba\\xbe\\x9bv\\xfd\\xbe\\x9e\\xa3$?l[S>h\\x8d\\x87>\\xba}\\x9d\\xbd\\xd7\\xce\\x12?l\\xe2\\x16\\x00\\x00\\x00\\x00\\x00\\x00\\x00\\x00\\x00\\x00\\x00\\x00'\n"
     ]
    }
   ],
   "source": [
    "import struct\n",
    "messagefile = os.path.join(os.path.join(os.path.join(os.path.abspath(os.path.join(wd, os.pardir)),\\\n",
    "                                             'OpenIGTLink'),\\\n",
    "                                             'ExampleFiles'),\\\n",
    "                                             'ExampleMessages.txt')\n",
    "\n",
    "text_file = open(messagefile, \"r\")\n",
    "messages = text_file.read()\n",
    "text_file.close()\n",
    "\n",
    "firstMessage = messages[0:106]\n",
    "a =  repr(firstMessage)\n",
    "\n",
    "transform = OpenIGTLink.OpenIGTLinkTransform()\n",
    "transform.header.unpack(firstMessage[0:transform.header.IGTLinkHeaderSize])\n",
    "transform.unpackTransform(firstMessage[transform.header.IGTLinkHeaderSize::])\n",
    "print repr(transform.getMessageToSend())\n",
    "print repr(firstMessage)"
   ]
  },
  {
   "cell_type": "code",
   "execution_count": 47,
   "metadata": {
    "collapsed": true
   },
   "outputs": [],
   "source": [
    "# Initialisation\n",
    "# 32 first bits of generator polynomial for CRC64\n",
    "# the 32 lower bits are assumed to be zero\n",
    "\n",
    "POLY64REVh = 0xd8000000L\n",
    "CRCTableh = [0] * 256\n",
    "CRCTablel = [0] * 256\n",
    "isInitialized = False\n",
    "\n",
    "def CRC64(aString):\n",
    "    global isInitialized\n",
    "    crcl = 0\n",
    "    crch = 0\n",
    "    if (isInitialized is not True):\n",
    "        isInitialized = True\n",
    "        for i in xrange(256): \n",
    "            partl = i\n",
    "            parth = 0L\n",
    "            for j in xrange(8):\n",
    "                rflag = partl & 1L                \n",
    "                partl >>= 1L               \n",
    "                if (parth & 1):\n",
    "                    partl |= (1L << 31L)\n",
    "                parth >>= 1L\n",
    "                if rflag:\n",
    "\t                parth ^= POLY64REVh\n",
    "            CRCTableh[i] = parth;\n",
    "            CRCTablel[i] = partl;\n",
    "\n",
    "    for item in aString:\n",
    "        shr = 0L\n",
    "        shr = (crch & 0xFF) << 24\n",
    "        temp1h = crch >> 8L\n",
    "        temp1l = (crcl >> 8L) | shr                        \n",
    "        tableindex = (crcl ^ ord(item)) & 0xFF\n",
    "        \n",
    "        crch = temp1h ^ CRCTableh[tableindex]\n",
    "        crcl = temp1l ^ CRCTablel[tableindex]\n",
    "    return (crch, crcl)\n",
    "\n",
    "def CRC64digest(aString):\n",
    "    return \"%08X%08X\" % (CRC64(aString))"
   ]
  },
  {
   "cell_type": "code",
   "execution_count": 57,
   "metadata": {
    "collapsed": false
   },
   "outputs": [
    {
     "name": "stdout",
     "output_type": "stream",
     "text": [
      "Length 48\n",
      "64\n",
      "True\n",
      "CRC calculated (3822890454L, 2600578513L) 0XE3DCADD6L9B01ADD1\n"
     ]
    }
   ],
   "source": [
    "text = firstMessage[transform.header.IGTLinkHeaderSize::]\n",
    "print \"Length\" , len(text)\n",
    "\n",
    "\n",
    "def string2bin(x):\n",
    "    return ''.join(format(ord(c), '08b') for c in x)\n",
    "#for e in text:\n",
    "#    print ord(e)\n",
    "\n",
    "bin(int('0x3BD0BCE5A45A6B5D', 16))[2:].zfill(64)\n",
    "print len(bin(int('0x3BD0BCE5A45A6B5D', 16))[2:].zfill(64))\n",
    "\n",
    "import helpers\n",
    "print CRC64digest('IHATEMATH') == 'E3DCADD69B01ADD1'\n",
    "\n",
    "print \"CRC calculated\", CRC64('IHATEMATH'), (hex(CRC64('IHATEMATH')[0]) + hex(CRC64('IHATEMATH')[1])[2:-1]).upper()\n"
   ]
  },
  {
   "cell_type": "code",
   "execution_count": 86,
   "metadata": {
    "collapsed": false
   },
   "outputs": [
    {
     "name": "stdout",
     "output_type": "stream",
     "text": [
      " CRC64 Gold Standard:  '7\\x05i\\x07\\x8e\\xd6\\xc3a'\n",
      "        Binary form:  0011011100000101011010010000011110001110110101101100001101100001  Length ->  64 = 64\n",
      "        2x Int form:  (923101447, 2396439393L)\n",
      "           Hex form:  370569078ED6C361\n",
      "-----------------------------------------------------------------------------------------------------------\n",
      "CRC64 Gold Standard:  '?`\\xd5=>\\xbd$\\xba\\xbe\\x9bv\\xfd\\xbe\\x9e\\xa3$?l[S>h\\x8d\\x87>\\xba}\\x9d\\xbd\\xd7\\xce\\x12?l\\xe2\\x16\\x00\\x00\\x00\\x00\\x00\\x00\\x00\\x00\\x00\\x00\\x00\\x00'\n",
      "        Binary form:  001111110110000011010101001111010011111010111101001001001011101010111110100110110111011011111101101111101001111010100011001001000011111101101100010110110101001100111110011010001000110110000111001111101011101001111101100111011011110111010111110011100001001000111111011011001110001000010110000000000000000000000000000000000000000000000000000000000000000000000000000000000000000000000000  Length ->  384 = 384\n",
      "        2x Int form:  (1063310653, 1052583098, 3197859581L, 3198067492L, 1064065875, 1047039367, 1052409245, 3185036818L, 1064100374, 0, 0, 0)\n",
      "           Hex form:  3F60D53D3EBD24BBE9B76FDBE9B76FDBE9B76FDBE9B76FDBE9B76FDBE9B76FDBE9B76FDBE9B76FDBE9B76FDBE9B76FD\n"
     ]
    }
   ],
   "source": [
    "import struct\n",
    "\n",
    "crc_gold = firstMessage[50:58]\n",
    "body = firstMessage[transform.header.IGTLinkHeaderSize::]\n",
    "\n",
    "# Get the CRC gold standard from a real message\n",
    "print 'CRC64 Gold Standard: ', repr(firstMessage[50:58])\n",
    "print '        Binary form: ', string2bin(firstMessage[50:58]), ' Length -> ', len(string2bin(firstMessage[50:58])), '=', 64\n",
    "print '        2x Int form: ', struct.unpack('>LL', firstMessage[50:58])\n",
    "print '           Hex form: ', (hex(struct.unpack('>LL', firstMessage[50:58])[0])[2:] +\\\n",
    "                                hex(struct.unpack('>LL', firstMessage[50:58])[1])[2:-1]).upper()\n",
    "print '-----------------------------------------------------------------------------------------------------------'\n",
    "print '               Body: ', repr(body)\n",
    "print '        Binary form: ', string2bin(body), ' Length -> ', len(string2bin(body)), '=', 12*32\n",
    "print '        2x Int form: ', struct.unpack('>LLLLLLLLLLLL', body)\n",
    "print '           Hex form: ', (hex(struct.unpack('>LLLLLLLLLLLL', body)[0])[2:] +\\\n",
    "                                hex(struct.unpack('>LLLLLLLLLLLL', body)[1])[2:-1] +\\\n",
    "                                hex(struct.unpack('>LLLLLLLLLLLL', body)[2])[2:-1] +\\\n",
    "                                hex(struct.unpack('>LLLLLLLLLLLL', body)[2])[2:-1] +\\\n",
    "                                hex(struct.unpack('>LLLLLLLLLLLL', body)[2])[2:-1] +\\\n",
    "                                hex(struct.unpack('>LLLLLLLLLLLL', body)[2])[2:-1] +\\\n",
    "                                hex(struct.unpack('>LLLLLLLLLLLL', body)[2])[2:-1] +\\\n",
    "                                hex(struct.unpack('>LLLLLLLLLLLL', body)[2])[2:-1] +\\\n",
    "                                hex(struct.unpack('>LLLLLLLLLLLL', body)[2])[2:-1] +\\\n",
    "                                hex(struct.unpack('>LLLLLLLLLLLL', body)[2])[2:-1] +\\\n",
    "                                hex(struct.unpack('>LLLLLLLLLLLL', body)[2])[2:-1] +\\\n",
    "                                hex(struct.unpack('>LLLLLLLLLLLL', body)[2])[2:-1] ).upper()\n"
   ]
  },
  {
   "cell_type": "markdown",
   "metadata": {},
   "source": [
    "## Read Message File"
   ]
  },
  {
   "cell_type": "code",
   "execution_count": null,
   "metadata": {
    "collapsed": false
   },
   "outputs": [],
   "source": [
    "import pandas\n",
    "messagefile = os.path.join(os.path.join(os.path.join(os.path.abspath(os.path.join(wd, os.pardir)),\\\n",
    "                                             'IGTLinkPython'),\\\n",
    "                                             'ExampleFiles'),\\\n",
    "                                             'Model.csv')\n",
    "df = pandas.read_csv(messagefile)\n",
    "df"
   ]
  },
  {
   "cell_type": "code",
   "execution_count": null,
   "metadata": {
    "collapsed": false
   },
   "outputs": [],
   "source": [
    "messageList = list()\n",
    "for i in range(len(df.index)):\n",
    "    message = df.loc[i]\n",
    "    \n",
    "    m = None\n",
    "    if message['TYPE'] == 'TRANSFORM':\n",
    "        \n",
    "        npTransform = numpy.eye(4)\n",
    "        for ii in range(3):\n",
    "            for jj in range(4):\n",
    "                npTransform[ii,jj] = float(message['T' + str(ii) + str(jj)])\n",
    "        \n",
    "        \n",
    "        t = OpenIGTLink.OpenIGTLinkTransform()\n",
    "        m = t.setOpenIGTLinkTransform(npTransform = npTransform,\\\n",
    "            floatTimeStamp = float(message['TIME_STAMP']),\\\n",
    "            transformName = message['DEVICE_NAME'])\n",
    "        messageList.append(m)\n",
    "    \n",
    "    elif message['TYPE'] == 'STATUS':\n",
    "        s = OpenIGTLink.OpenIGTLinkStatus()\n",
    "        m = s.setOpenIGTLinkStatus(statusCode = int(message['CODE']),\\\n",
    "                                         statusSubCode = int(message['SUBCODE']),\\\n",
    "                                         errorName = message['ERROR_NAME'],\\\n",
    "                                         statusMessage = message['STATUS_MESSAGE'],\\\n",
    "                                         deviceName = message['DEVICE_NAME'],\\\n",
    "                                         floatTimeStamp = float(message['TIME_STAMP']))\n",
    "        messageList.append(m)\n",
    "    else:\n",
    "        print \"Problem realind row: \", i\n",
    "    \n",
    "print messageList"
   ]
  },
  {
   "cell_type": "markdown",
   "metadata": {},
   "source": [
    "## Create and launch server\n",
    "\n",
    "1. Run this cell in a different ipython session\n",
    "2. Run the second cell for receive the data in other ipython session\n"
   ]
  },
  {
   "cell_type": "code",
   "execution_count": null,
   "metadata": {
    "collapsed": false
   },
   "outputs": [],
   "source": [
    "%load_ext autoreload\n",
    "%autoreload 2\n",
    "import os\n",
    "import sys\n",
    "# Get current Directory\n",
    "wd = os.getcwd()\n",
    "# Add package to path\n",
    "sys.path.append(os.path.join(os.path.abspath(os.path.join(wd, os.pardir)), 'OpenIGTLink'))\n",
    "\n",
    "import OpenIGTLink\n",
    "\n",
    "messagefile = os.path.join(os.path.join(os.path.join(os.path.abspath(os.path.join(wd, os.pardir)),\\\n",
    "                                             'OpenIGTLink'),\\\n",
    "                                             'ExampleFiles'),\\\n",
    "                                             'Model.csv')\n",
    "server = OpenIGTLink.OpenIGTLinkConnection(connectionType = 'server')\n",
    "server.loadFileMessages(messagefile)\n",
    "server.connect()\n",
    "server.startSending(50)"
   ]
  },
  {
   "cell_type": "code",
   "execution_count": 3,
   "metadata": {
    "collapsed": false
   },
   "outputs": [
    {
     "name": "stdout",
     "output_type": "stream",
     "text": [
      "The autoreload extension is already loaded. To reload it, use:\n",
      "  %reload_ext autoreload\n",
      "Trying to connect\n",
      "Socket Created\n",
      "Ip address of localhost is 127.0.0.1\n",
      "Socket Connected to localhost on ip 127.0.0.1\n",
      "Thread Called:  1  times\n",
      "Listening time to finish: Press Ctrl + C for end client [13:03:23]--[|                   ][Transform]\n",
      "[Transform]\n",
      "Listening time to finish: Press Ctrl + C for end client [13:03:24]--[||                  ][Transform]\n",
      "Listening time to finish: Press Ctrl + C for end client [13:03:24]--[||                  ][Transform]\n",
      "Listening time to finish: Press Ctrl + C for end client [13:03:24]--[||                  ][Transform]\n",
      "Listening time to finish: Press Ctrl + C for end client [13:03:24]--[|||                 ][Transform]\n",
      "Listening time to finish: Press Ctrl + C for end client [13:03:25]--[||||                ][Transform]\n",
      "Listening time to finish: Press Ctrl + C for end client [13:03:25]--[||||                ][Transform]\n",
      "Listening time to finish: Press Ctrl + C for end client [13:03:25]--[||||                ][Transform]\n",
      "Listening time to finish: Press Ctrl + C for end client [13:03:25]--[|||||               ][Transform]\n",
      "Listening time to finish: Press Ctrl + C for end client [13:03:26]--[||||||              ][Transform]\n",
      "Listening time to finish: Press Ctrl + C for end client [13:03:26]--[||||||              ][Transform]\n",
      "Listening time to finish: Press Ctrl + C for end client [13:03:26]--[||||||              ][Transform]\n",
      "Listening time to finish: Press Ctrl + C for end client [13:03:26]--[|||||||             ][Transform]\n",
      "Listening time to finish: Press Ctrl + C for end client [13:03:27]--[||||||||            ][Transform]\n",
      "Listening time to finish: Press Ctrl + C for end client [13:03:27]--[||||||||            ][Transform]\n",
      "Listening time to finish: Press Ctrl + C for end client [13:03:27]--[||||||||            ][Transform]\n",
      "Listening time to finish: Press Ctrl + C for end client [13:03:27]--[|||||||||           ][Transform]\n",
      "Listening time to finish: Press Ctrl + C for end client [13:03:28]--[||||||||||          ][Transform]\n",
      "Listening time to finish: Press Ctrl + C for end client [13:03:28]--[||||||||||          ][Transform]\n",
      "Listening time to finish: Press Ctrl + C for end client [13:03:28]--[||||||||||          ][Transform]\n",
      "Listening time to finish: Press Ctrl + C for end client [13:03:28]--[|||||||||||         ][Transform]\n",
      "Listening time to finish: Press Ctrl + C for end client [13:03:29]--[||||||||||||        ][Transform]\n",
      "Listening time to finish: Press Ctrl + C for end client [13:03:29]--[||||||||||||        ][Transform]\n",
      "Listening time to finish: Press Ctrl + C for end client [13:03:29]--[||||||||||||        ][Transform]\n",
      "Listening time to finish: Press Ctrl + C for end client [13:03:29]--[|||||||||||||       ][Transform]\n",
      "Listening time to finish: Press Ctrl + C for end client [13:03:30]--[||||||||||||||      ][Transform]\n",
      "Listening time to finish: Press Ctrl + C for end client [13:03:30]--[||||||||||||||      ][Transform]\n",
      "Listening time to finish: Press Ctrl + C for end client [13:03:30]--[||||||||||||||      ][Transform]\n",
      "Listening time to finish: Press Ctrl + C for end client [13:03:30]--[|||||||||||||||     ][Transform]\n",
      "Listening time to finish: Press Ctrl + C for end client [13:03:31]--[||||||||||||||||    ][Transform]\n",
      "Listening time to finish: Press Ctrl + C for end client [13:03:31]--[||||||||||||||||    ][Transform]\n",
      "Listening time to finish: Press Ctrl + C for end client [13:03:31]--[||||||||||||||||    ][Transform]\n",
      "Listening time to finish: Press Ctrl + C for end client [13:03:31]--[|||||||||||||||||   ][Transform]\n",
      "Listening time to finish: Press Ctrl + C for end client [13:03:32]--[||||||||||||||||||  ][Transform]\n",
      "Listening time to finish: Press Ctrl + C for end client [13:03:32]--[||||||||||||||||||  ][Transform]\n",
      "Listening time to finish: Press Ctrl + C for end client [13:03:32]--[||||||||||||||||||  ][Transform]\n",
      "Listening time to finish: Press Ctrl + C for end client [13:03:32]--[||||||||||||||||||| ][Transform]\n",
      "Listening time to finish: Press Ctrl + C for end client [13:03:33]--[||||||||||||||||||||][Transform]\n",
      "Listening time to finish: Press Ctrl + C for end client [13:03:33]--[||||||||||||||||||||] Finished![Transform]\n",
      "Connection closed\n",
      "Trying to Write Message File\n",
      "File Written. Number of messages: 40\n"
     ]
    }
   ],
   "source": [
    "%load_ext autoreload\n",
    "%autoreload 2\n",
    "import os\n",
    "import sys\n",
    "import time\n",
    "# Get current Directory\n",
    "wd = os.getcwd()\n",
    "# Add package to path\n",
    "sys.path.append(os.path.join(os.path.abspath(os.path.join(wd, os.pardir)), 'OpenIGTLink'))\n",
    "import OpenIGTLink\n",
    "\n",
    "messagefileReceived = os.path.join(os.path.join(os.path.join(os.path.abspath(os.path.join(wd, os.pardir)),\\\n",
    "                                             'OpenIGTLink'),\\\n",
    "                                             'ExampleFiles'),\\\n",
    "                                             'ModelReceived.csv')\n",
    "client = OpenIGTLink.OpenIGTLinkConnection(connectionType = 'client')\n",
    "client.connect()\n",
    "client.startListening(10)\n",
    "client.disconnect()\n",
    "\n",
    "client.writeFileMessages(messagefileReceived)"
   ]
  },
  {
   "cell_type": "code",
   "execution_count": null,
   "metadata": {
    "collapsed": true
   },
   "outputs": [],
   "source": []
  }
 ],
 "metadata": {
  "kernelspec": {
   "display_name": "Python 2",
   "language": "python",
   "name": "python2"
  },
  "language_info": {
   "codemirror_mode": {
    "name": "ipython",
    "version": 2
   },
   "file_extension": ".py",
   "mimetype": "text/x-python",
   "name": "python",
   "nbconvert_exporter": "python",
   "pygments_lexer": "ipython2",
   "version": "2.7.11"
  }
 },
 "nbformat": 4,
 "nbformat_minor": 0
}
