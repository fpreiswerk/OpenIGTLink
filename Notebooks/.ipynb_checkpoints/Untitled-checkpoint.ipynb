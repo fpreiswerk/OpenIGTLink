{
 "cells": [
  {
   "cell_type": "code",
   "execution_count": null,
   "metadata": {
    "collapsed": false
   },
   "outputs": [],
   "source": [
    "%load_ext autoreload\n",
    "%autoreload 2\n",
    "import os\n",
    "import sys\n",
    "# Get current Directory\n",
    "wd = os.getcwd()\n",
    "# Add package to path\n",
    "sys.path.append('C:\\\\Dev\\\\BiiGTK\\\\src\\\\SlicerModules\\\\SordinaLIACGuidance\\\\OpenIGTLink')\n",
    "\n",
    "import OpenIGTLink\n",
    "\n",
    "messagefile = 'c:\\\\users\\\\emarin~1\\\\appdata\\\\local\\\\temp\\\\tmpmgiwwb'\n",
    "server = OpenIGTLink.OpenIGTLinkConnection(connectionType = 'server')\n",
    "server.loadFileMessages(messagefile)\n",
    "server.connect()\n",
    "#server.startSending(120)"
   ]
  },
  {
   "cell_type": "code",
   "execution_count": null,
   "metadata": {
    "collapsed": true
   },
   "outputs": [],
   "source": []
  }
 ],
 "metadata": {
  "kernelspec": {
   "display_name": "Python 2",
   "language": "python",
   "name": "python2"
  },
  "language_info": {
   "codemirror_mode": {
    "name": "ipython",
    "version": 2
   },
   "file_extension": ".py",
   "mimetype": "text/x-python",
   "name": "python",
   "nbconvert_exporter": "python",
   "pygments_lexer": "ipython2",
   "version": "2.7.11"
  }
 },
 "nbformat": 4,
 "nbformat_minor": 0
}
